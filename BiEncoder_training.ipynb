{
 "cells": [
  {
   "cell_type": "code",
   "execution_count": 1,
   "metadata": {},
   "outputs": [
    {
     "name": "stderr",
     "output_type": "stream",
     "text": [
      "c:\\Users\\ihear\\AppData\\Local\\Programs\\Python\\Python310\\lib\\site-packages\\tqdm\\auto.py:21: TqdmWarning: IProgress not found. Please update jupyter and ipywidgets. See https://ipywidgets.readthedocs.io/en/stable/user_install.html\n",
      "  from .autonotebook import tqdm as notebook_tqdm\n"
     ]
    }
   ],
   "source": [
    "# imporrts\n",
    "\n",
    "from transformers import BertTokenizer, BertModel, AdamW\n",
    "import torch\n",
    "from tqdm import tqdm\n",
    "from torch.utils.data import DataLoader\n",
    "from matplotlib import pyplot as plt\n",
    "\n",
    "from ICD10Encoder import EntityMentionTokenizer, EntityMentionPooling, EntityMentionDataset, ICD10BiEncoder"
   ]
  },
  {
   "cell_type": "markdown",
   "metadata": {},
   "source": [
    "# Prepare Data"
   ]
  },
  {
   "cell_type": "code",
   "execution_count": 2,
   "metadata": {},
   "outputs": [],
   "source": [
    "# Load data\n",
    "import pandas as pd\n",
    "\n",
    "# annotation data\n",
    "data = pd.read_csv(\"Data//split_data.csv\")\n",
    "\n",
    "# full text for context\n",
    "text_data = pd.read_csv(\"Data/Final_texts.csv\")"
   ]
  },
  {
   "cell_type": "code",
   "execution_count": 3,
   "metadata": {},
   "outputs": [],
   "source": [
    "tokenizer = BertTokenizer.from_pretrained('bert-base-multilingual-uncased')\n",
    "emt = EntityMentionTokenizer(tokenizer, 128)"
   ]
  },
  {
   "cell_type": "code",
   "execution_count": 4,
   "metadata": {},
   "outputs": [],
   "source": [
    "def extract_context(text, start_position, end_position, context_size=5):\n",
    "      # ensure valid positions\n",
    "        if start_position < 0 or end_position > len(text) or start_position >= end_position:\n",
    "            raise ValueError(\"Invalid mention positions\")\n",
    "\n",
    "        # extract mention\n",
    "        mention = text[start_position:end_position]\n",
    "\n",
    "        # get the left context and tokenize\n",
    "        left_context = text[:start_position]\n",
    "        left_context = left_context.split()[-context_size:]\n",
    "\n",
    "        # get the right context and tokenize\n",
    "        right_context = text[end_position:]\n",
    "        right_context = right_context.split()[:context_size]\n",
    "\n",
    "        return mention, \" \".join(left_context), \" \".join(right_context)"
   ]
  },
  {
   "cell_type": "code",
   "execution_count": 5,
   "metadata": {},
   "outputs": [],
   "source": [
    "# create Mentions Dataframe with a context of 5 tokens each side\n",
    "\n",
    "mentions_df = pd.DataFrame(columns = ['mention', 'context_left', 'context_right'])\n",
    "\n",
    "for _, row_texts in text_data.iterrows():\n",
    "    for _, row_annotations in data.iterrows():\n",
    "        if row_texts.patient_id == row_annotations.patient_id:\n",
    "            mention, left_context, right_context = extract_context(row_texts.text, row_annotations.start, row_annotations.end)\n",
    "            new_df = pd.DataFrame([{'mention': mention, 'context_left': left_context, 'context_right': right_context}])\n",
    "            mentions_df = pd.concat([mentions_df, new_df], ignore_index=True, axis=0)\n",
    "        else:\n",
    "            # move to the next row_texts if patient numbers don't match\n",
    "            continue"
   ]
  },
  {
   "cell_type": "code",
   "execution_count": 6,
   "metadata": {},
   "outputs": [],
   "source": [
    "# seperate entitiy-description in a new df\n",
    "ed_df = data[['code', 'description']]"
   ]
  },
  {
   "cell_type": "code",
   "execution_count": 7,
   "metadata": {},
   "outputs": [],
   "source": [
    "# split based on 'set' column\n",
    "\n",
    "train_mentions_df = mentions_df[data['set'] == 'train']\n",
    "test_mentions_df = mentions_df[data['set'] == 'test']\n",
    "val_mentions_df = mentions_df[data['set'] == 'validation']\n",
    "\n",
    "train_ed_df = ed_df[data['set'] == 'train']\n",
    "test_ed_df = ed_df[data['set'] == 'test']\n",
    "val_ed_df = ed_df[data['set'] == 'validation']"
   ]
  },
  {
   "cell_type": "code",
   "execution_count": 8,
   "metadata": {},
   "outputs": [],
   "source": [
    "# tokenize texts\n",
    "\n",
    "max_length = 128\n",
    "\n",
    "tokenizer = BertTokenizer.from_pretrained('bert-base-multilingual-uncased')\n",
    "emt = EntityMentionTokenizer(tokenizer, max_length=max_length)\n",
    "\n",
    "def tokenize_data(df, tokenizer_instance):\n",
    "    tokenized_data = df.apply(tokenizer_instance, axis=1)\n",
    "    return list(tokenized_data)\n",
    "\n",
    "tokenized_mentions_train = tokenize_data(train_mentions_df, emt.tokenizeWcontext)\n",
    "tokenized_entities_train = tokenize_data(train_ed_df, emt.tokenize_entity_description)\n",
    "\n",
    "tokenized_mentions_test = tokenize_data(test_mentions_df, emt.tokenizeWcontext)\n",
    "tokenized_entities_test = tokenize_data(test_ed_df, emt.tokenize_entity_description)\n",
    "\n",
    "tokenized_mentions_val = tokenize_data(val_mentions_df, emt.tokenizeWcontext)\n",
    "tokenized_entities_val = tokenize_data(val_ed_df, emt.tokenize_entity_description)"
   ]
  },
  {
   "cell_type": "code",
   "execution_count": 9,
   "metadata": {},
   "outputs": [],
   "source": [
    "# create special tokens masks\n",
    "\n",
    "def create_special_tokens_mask(input_ids, tokenizer, special_tokens=[\"[Ms]\", \"[Me]\"]):\n",
    "    input_ids = torch.Tensor(input_ids)\n",
    "    special_token_ids = tokenizer.convert_tokens_to_ids(special_tokens)\n",
    "    special_tokens_mask = torch.zeros_like(input_ids, dtype=torch.bool)\n",
    "\n",
    "    for token_id in special_token_ids:\n",
    "        special_tokens_mask |= (input_ids == token_id)\n",
    "\n",
    "    return special_tokens_mask\n",
    "\n",
    "def print_decoded_text(tokenized_input, tokenizer):\n",
    "    input_ids = tokenized_input['input_ids']\n",
    "    decoded_text = tokenizer.decode(input_ids, skip_special_tokens=False)\n",
    "    print(\"Decoded Text:\", decoded_text)\n",
    "\n",
    "# create lists to store special tokens masks and decoded text\n",
    "train_mention_special_tokens_masks = []\n",
    "train_entity_special_tokens_masks = []\n",
    "\n",
    "test_mention_special_tokens_masks = []\n",
    "test_entity_special_tokens_masks = []\n",
    "\n",
    "val_mention_special_tokens_masks = []\n",
    "val_entity_special_tokens_masks = []\n",
    "\n",
    "# mentions masks\n",
    "for tokenized_input in tokenized_mentions_train:\n",
    "    input_ids = tokenized_input['input_ids']\n",
    "    special_tokens_mask = create_special_tokens_mask(input_ids, emt.tokenizer)\n",
    "    train_mention_special_tokens_masks.append(special_tokens_mask)\n",
    "\n",
    "for tokenized_input in tokenized_mentions_test:\n",
    "    input_ids = tokenized_input['input_ids']\n",
    "    special_tokens_mask = create_special_tokens_mask(input_ids, emt.tokenizer)\n",
    "    test_mention_special_tokens_masks.append(special_tokens_mask)\n",
    "\n",
    "for tokenized_input in tokenized_mentions_val:\n",
    "    input_ids = tokenized_input['input_ids']\n",
    "    special_tokens_mask = create_special_tokens_mask(input_ids, emt.tokenizer)\n",
    "    val_mention_special_tokens_masks.append(special_tokens_mask)\n",
    "\n",
    "\n",
    "# entities masks\n",
    "    \n",
    "for tokenized_input in tokenized_entities_train:\n",
    "    input_ids = tokenized_input['input_ids']\n",
    "    special_tokens_mask = create_special_tokens_mask(input_ids, emt.tokenizer, special_tokens=[\"[ENT]\"])\n",
    "    train_entity_special_tokens_masks.append(special_tokens_mask)\n",
    "\n",
    "for tokenized_input in tokenized_entities_test:\n",
    "    input_ids = tokenized_input['input_ids']\n",
    "    special_tokens_mask = create_special_tokens_mask(input_ids, emt.tokenizer, special_tokens=[\"[ENT]\"])\n",
    "    test_entity_special_tokens_masks.append(special_tokens_mask)\n",
    "\n",
    "   \n",
    "for tokenized_input in tokenized_entities_val:\n",
    "    input_ids = tokenized_input['input_ids']\n",
    "    special_tokens_mask = create_special_tokens_mask(input_ids, emt.tokenizer, special_tokens=[\"[ENT]\"])\n",
    "    val_entity_special_tokens_masks.append(special_tokens_mask)\n",
    "\n"
   ]
  },
  {
   "cell_type": "code",
   "execution_count": 10,
   "metadata": {},
   "outputs": [],
   "source": [
    "# create custom datasets\n",
    "train_dataset = EntityMentionDataset(tokenized_mentions_train, tokenized_entities_train, train_mention_special_tokens_masks, train_entity_special_tokens_masks)\n",
    "test_dataset = EntityMentionDataset(tokenized_mentions_test, tokenized_entities_test, test_mention_special_tokens_masks, test_entity_special_tokens_masks)\n",
    "val_dataset = EntityMentionDataset(tokenized_mentions_val, tokenized_entities_val, val_mention_special_tokens_masks, val_entity_special_tokens_masks)"
   ]
  },
  {
   "cell_type": "markdown",
   "metadata": {},
   "source": [
    "# Train Model"
   ]
  },
  {
   "cell_type": "code",
   "execution_count": 11,
   "metadata": {},
   "outputs": [],
   "source": [
    "# create dataloaders\n",
    "batch_size = 8\n",
    "\n",
    "train_loader = DataLoader(dataset=train_dataset, batch_size=batch_size, shuffle=True)\n",
    "test_loader = DataLoader(dataset=test_dataset, batch_size=batch_size, shuffle=False)\n",
    "val_loader = DataLoader(dataset=val_dataset, batch_size=batch_size, shuffle=False)"
   ]
  },
  {
   "cell_type": "code",
   "execution_count": 12,
   "metadata": {},
   "outputs": [
    {
     "name": "stderr",
     "output_type": "stream",
     "text": [
      "Some weights of the model checkpoint at bert-base-multilingual-uncased were not used when initializing BertModel: ['cls.predictions.decoder.weight', 'cls.predictions.bias', 'cls.predictions.transform.LayerNorm.bias', 'cls.seq_relationship.bias', 'cls.predictions.transform.LayerNorm.weight', 'cls.seq_relationship.weight', 'cls.predictions.transform.dense.bias', 'cls.predictions.transform.dense.weight']\n",
      "- This IS expected if you are initializing BertModel from the checkpoint of a model trained on another task or with another architecture (e.g. initializing a BertForSequenceClassification model from a BertForPreTraining model).\n",
      "- This IS NOT expected if you are initializing BertModel from the checkpoint of a model that you expect to be exactly identical (initializing a BertForSequenceClassification model from a BertForSequenceClassification model).\n",
      "Some weights of the model checkpoint at bert-base-multilingual-uncased were not used when initializing BertModel: ['cls.predictions.decoder.weight', 'cls.predictions.bias', 'cls.predictions.transform.LayerNorm.bias', 'cls.seq_relationship.bias', 'cls.predictions.transform.LayerNorm.weight', 'cls.seq_relationship.weight', 'cls.predictions.transform.dense.bias', 'cls.predictions.transform.dense.weight']\n",
      "- This IS expected if you are initializing BertModel from the checkpoint of a model trained on another task or with another architecture (e.g. initializing a BertForSequenceClassification model from a BertForPreTraining model).\n",
      "- This IS NOT expected if you are initializing BertModel from the checkpoint of a model that you expect to be exactly identical (initializing a BertForSequenceClassification model from a BertForSequenceClassification model).\n",
      "c:\\Users\\ihear\\AppData\\Local\\Programs\\Python\\Python310\\lib\\site-packages\\transformers\\optimization.py:306: FutureWarning: This implementation of AdamW is deprecated and will be removed in a future version. Use the PyTorch implementation torch.optim.AdamW instead, or set `no_deprecation_warning=True` to disable this warning\n",
      "  warnings.warn(\n"
     ]
    }
   ],
   "source": [
    "model_mention = BertModel.from_pretrained('bert-base-multilingual-uncased')\n",
    "model_entity = BertModel.from_pretrained('bert-base-multilingual-uncased')\n",
    "\n",
    "# Resize token embeddings\n",
    "model_mention.resize_token_embeddings(len(emt.tokenizer))\n",
    "model_entity.resize_token_embeddings(len(emt.tokenizer))\n",
    "\n",
    "# Define separate optimizers for mention and entity transformers\n",
    "optimizer_mention = AdamW(model_mention.parameters(), lr=1e-5)\n",
    "optimizer_entity = AdamW(model_entity.parameters(), lr=1e-5)\n",
    "\n",
    "bi_encoder = ICD10BiEncoder(mention_transformer=model_mention,\n",
    "                            entity_trasformer=model_entity,\n",
    "                            optimizer_mention=optimizer_mention,\n",
    "                            optimizer_entity=optimizer_entity)"
   ]
  },
  {
   "cell_type": "code",
   "execution_count": 16,
   "metadata": {},
   "outputs": [],
   "source": [
    "mention_pooling = EntityMentionPooling(pool_type=\"average\", special_token_type='mention')\n",
    "entity_pooling = EntityMentionPooling(pool_type=\"average\", special_token_type='entity')\n",
    "\n",
    "bi_encoder.train(train_loader, val_loader, num_epochs=5, \n",
    "                 checkpoint_folder='NEWTEST2', \n",
    "                 mention_pooling=mention_pooling, \n",
    "                 entity_pooling=entity_pooling)"
   ]
  },
  {
   "cell_type": "code",
   "execution_count": 20,
   "metadata": {},
   "outputs": [
    {
     "name": "stdout",
     "output_type": "stream",
     "text": [
      "[1.0051697492599487, 0.3482528328895569, 0.2601551413536072, 0.23345215618610382, 0.24224770069122314]\n"
     ]
    },
    {
     "data": {
      "image/png": "[encoded data removed]",
      "text/plain": [
       "<Figure size 640x480 with 1 Axes>"
      ]
     },
     "metadata": {},
     "output_type": "display_data"
    }
   ],
   "source": [
    "# plot metrics\n",
    "\n",
    "# train_losses = [1.7504, 0.8169, 0.3866, 0.2901]\n",
    "train_losses = bi_encoder.train_losses\n",
    "train_losses = [x.item() for x in train_losses]\n",
    "print(train_losses)\n",
    "# val_losses = [1.0710760354995728, 0.6820884943008423, 0.9808986783027649, 0.7468389272689819]\n",
    "val_losses = bi_encoder.val_losses\n",
    "val_losses = [x.item() for x in val_losses]\n",
    "epochs = range(1, len(train_losses) + 1)\n",
    "\n",
    "plt.plot(epochs, train_losses, label='Training Loss', marker='o')\n",
    "plt.plot(epochs, val_losses, label='Validation Loss', marker='o')\n",
    "\n",
    "plt.xlabel('Epoch')\n",
    "plt.ylabel('Loss')\n",
    "plt.legend()\n",
    "plt.grid(True)\n",
    "plt.show()"
   ]
  },
  {
   "cell_type": "code",
   "execution_count": 17,
   "metadata": {},
   "outputs": [],
   "source": [
    "# get the embeddings of all the test set descriptions \n",
    "\n",
    "descr_embeddings = bi_encoder.get_entity_embeddings(test_loader, entity_pooling)"
   ]
  }
 ],
 "metadata": {
  "kernelspec": {
   "display_name": "Python 3",
   "language": "python",
   "name": "python3"
  },
  "language_info": {
   "codemirror_mode": {
    "name": "ipython",
    "version": 3
   },
   "file_extension": ".py",
   "mimetype": "text/x-python",
   "name": "python",
   "nbconvert_exporter": "python",
   "pygments_lexer": "ipython3",
   "version": "3.10.2"
  }
 },
 "nbformat": 4,
 "nbformat_minor": 2
}
